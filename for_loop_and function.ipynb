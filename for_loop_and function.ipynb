{
 "cells": [
  {
   "cell_type": "code",
   "execution_count": 28,
   "metadata": {},
   "outputs": [
    {
     "name": "stdout",
     "output_type": "stream",
     "text": [
      "32\n"
     ]
    }
   ],
   "source": [
    "#for迴圈 \n",
    "#配合函式def\n",
    "\n",
    "#print(pow(2,4)) #pow為次方函式\n",
    "\n",
    "#設計一個能夠輸出指數的函式\n",
    "def powerfunc(base_num,pow_num): #函式名稱(參數1,參數2)\n",
    "    result = base_num                #起始條件\n",
    "    for index in range(pow_num-1):   #in後面的資料會迭代到 index內\n",
    "        result = result * base_num   #透過不斷乘上底數本身達到次方效果\n",
    "    return result\n",
    "    \n",
    "print(powerfunc(2,5))"
   ]
  },
  {
   "cell_type": "code",
   "execution_count": null,
   "metadata": {},
   "outputs": [],
   "source": []
  }
 ],
 "metadata": {
  "kernelspec": {
   "display_name": "Python 3",
   "language": "python",
   "name": "python3"
  },
  "language_info": {
   "codemirror_mode": {
    "name": "ipython",
    "version": 3
   },
   "file_extension": ".py",
   "mimetype": "text/x-python",
   "name": "python",
   "nbconvert_exporter": "python",
   "pygments_lexer": "ipython3",
   "version": "3.6.5"
  }
 },
 "nbformat": 4,
 "nbformat_minor": 2
}
