{
 "cells": [
  {
   "cell_type": "code",
   "execution_count": 3,
   "metadata": {},
   "outputs": [
    {
     "name": "stdout",
     "output_type": "stream",
     "text": [
      "輸入第一個數:10\n",
      "輸入第二個數:5\n",
      "輸入運算符號:+\n",
      "15.0\n"
     ]
    }
   ],
   "source": [
    "#小型四則運算計算機\n",
    "\n",
    "num1 =float(input(\"輸入第一個數:\"))\n",
    "num2 =float(input(\"輸入第二個數:\"))\n",
    "op = input(\"輸入運算符號:\")\n",
    "\n",
    "if op == \"+\":\n",
    "     print(num1+num2)\n",
    "        \n",
    "elif op == \"-\":\n",
    "     print(num1-num2)\n",
    "        \n",
    "elif op == \"*\":\n",
    "     print(num1*num2)\n",
    "    \n",
    "elif op == \"/\":\n",
    "     print(num /num2)\n",
    "    \n",
    "else :\n",
    "     print(\"unvalid signal\")"
   ]
  },
  {
   "cell_type": "code",
   "execution_count": 9,
   "metadata": {},
   "outputs": [
    {
     "name": "stdout",
     "output_type": "stream",
     "text": [
      "猜一個數字吧44\n",
      "更小!\n",
      "猜一個數字吧40\n",
      "更大!\n",
      "猜一個數字吧45\n",
      "更小!\n",
      "猜一個數字吧33\n",
      "更大!\n",
      "猜一個數字吧47\n",
      "更小!\n",
      "猜一個數字吧6\n",
      "更大!\n",
      "猜一個數字吧32\n",
      "更大!\n",
      "猜一個數字吧33\n",
      "更大!\n",
      "猜一個數字吧41\n",
      "bingo\n"
     ]
    }
   ],
   "source": [
    "# 猜數字遊戲  guess number\n",
    "# while迴圈\n",
    "import random \n",
    "secret_num =random.randrange(1,50)\n",
    "guess_num = None\n",
    "\n",
    "while secret_num != guess_num :\n",
    "        guess_num = int(input(\"猜一個數字吧\"))\n",
    "        if   guess_num > secret_num :\n",
    "            print(\"更小!\")\n",
    "        elif guess_num < secret_num :\n",
    "            print(\"更大!\")\n",
    "print(\"bingo\")"
   ]
  },
  {
   "cell_type": "code",
   "execution_count": null,
   "metadata": {},
   "outputs": [],
   "source": [
    "i=0\n",
    "while i < 100:\n",
    "        print(\"你好\")\n",
    "        i+=1\n",
    "print(\"我說完了啦\")"
   ]
  },
  {
   "cell_type": "code",
   "execution_count": 3,
   "metadata": {},
   "outputs": [
    {
     "name": "stdout",
     "output_type": "stream",
     "text": [
      "猜一個數字吧10\n",
      "更大!\n",
      "猜一個數字吧20\n",
      "更小!\n",
      "猜一個數字吧15\n",
      "更大!\n",
      "猜一個數字吧16\n",
      "更大!\n",
      "猜一個數字吧17\n",
      "更大!\n",
      "You lose\n"
     ]
    }
   ],
   "source": [
    "#猜數字進階  加上布林值判斷.次數限制\n",
    "\n",
    "import random \n",
    "secret_num =random.randrange(1,50)\n",
    "guess_num = None\n",
    "guess_time = 0\n",
    "guess_chance = 5\n",
    "guess_failure = False\n",
    "\n",
    "while secret_num != guess_num and not(guess_failure) :\n",
    "        guess_time += 1\n",
    "        if guess_time <= guess_chance:\n",
    "            guess_num = int(input(\"猜一個數字吧\"))\n",
    "            if   guess_num > secret_num :\n",
    "                print(\"更小!\")\n",
    "            elif guess_num < secret_num :\n",
    "                print(\"更大!\")\n",
    "        else :\n",
    "            guess_failure = True #用布林值跳脫迴圈，也可以直接 break\n",
    "\n",
    "if guess_failure == True :\n",
    "    print(\"You lose\")\n",
    "else :            \n",
    "    print(\"bingo\")"
   ]
  },
  {
   "cell_type": "code",
   "execution_count": null,
   "metadata": {},
   "outputs": [],
   "source": []
  },
  {
   "cell_type": "code",
   "execution_count": null,
   "metadata": {},
   "outputs": [],
   "source": []
  }
 ],
 "metadata": {
  "kernelspec": {
   "display_name": "Python 3",
   "language": "python",
   "name": "python3"
  }
 },
 "nbformat": 4,
 "nbformat_minor": 2
}
