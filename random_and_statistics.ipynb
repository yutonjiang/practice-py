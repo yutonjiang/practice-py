{
 "cells": [
  {
   "cell_type": "code",
   "execution_count": 19,
   "metadata": {},
   "outputs": [
    {
     "name": "stdout",
     "output_type": "stream",
     "text": [
      "15\n",
      "73\n",
      "[0, 1, 2, 3]\n"
     ]
    }
   ],
   "source": [
    "#隨機數練習  random模組\n",
    "import random\n",
    "data = [0,1,2,3]\n",
    "\n",
    "# print(random.random())  #從0到1隨機抽取浮點數\n",
    "# print(random.uniform(2,4.22)) #從指定範圍內隨機抽取浮點數\n",
    "\n",
    "print(random.randrange(1,25))  #從指定範圍隨機選取整數 (a <= x < b) 可指定遞增值\n",
    "print(random.randint(0,100)) #從指定範圍隨機選取整數 (a<= x <= b) a.b都要給定\n",
    "print(data) "
   ]
  },
  {
   "cell_type": "code",
   "execution_count": 25,
   "metadata": {},
   "outputs": [
    {
     "name": "stdout",
     "output_type": "stream",
     "text": [
      "['black', 'black', 'blue']\n",
      "Today I'd like to order:['sushi']\n"
     ]
    }
   ],
   "source": [
    "#隨機數練習2   choice choices sample\n",
    "\n",
    "#choice:從資料中選出一筆資料，取出為string型態\n",
    "\n",
    "#choices :從資料中選出多筆資料(k)，取出為 list型態，可重覆，用 weights=[n1,n2,n3,n4,n5]\n",
    "#可決定各項資料的權重\n",
    "\n",
    "#sample:從資料中選出多筆資料(k)，取出為 list型態，不重覆\n",
    "\n",
    "colors = [\"red\",\"blue\",\"yellow\",\"white\",\"black\"]\n",
    "print(random.choices(colors,k=3))\n",
    "\n",
    "foods = [\"burger\",\"spagetti\",\"rice\",\"sushi\"]\n",
    "print(\"Today I'd like to order:\"+ str(random.sample(foods,k=1)))"
   ]
  },
  {
   "cell_type": "code",
   "execution_count": 27,
   "metadata": {},
   "outputs": [
    {
     "name": "stdout",
     "output_type": "stream",
     "text": [
      "[1, 5, 2, 3, 4, 0]\n",
      "100.42474511918664\n"
     ]
    }
   ],
   "source": [
    "#隨機數練習 3  shuffle normalvariate \n",
    "\n",
    "s = [0,1,2,3,4,5]\n",
    "random.shuffle(s)\n",
    "print(s)\n",
    "\n",
    "print(random.normalvariate(100,10)) #取得平均數為100，標準差為10的常態分配亂數，大部分的資料會出現在(100-10)~(100+10)的區間"
   ]
  },
  {
   "cell_type": "code",
   "execution_count": 30,
   "metadata": {},
   "outputs": [
    {
     "name": "stdout",
     "output_type": "stream",
     "text": [
      "60\n",
      "60\n",
      "46.36809247747852\n"
     ]
    }
   ],
   "source": [
    "#統計模組 statistic\n",
    "\n",
    "import statistics    #可以用 import  ... as \"簡稱\" 來簡化模組名稱\n",
    "\n",
    "data = [10,20,60,90,120]\n",
    "\n",
    "print(statistics.mean(data)) #計算平均數\n",
    "\n",
    "print(statistics.median(data)) #計算中位數\n",
    "\n",
    "print(statistics.stdev(data)) #計算標準差(standard deviation)\n"
   ]
  },
  {
   "cell_type": "code",
   "execution_count": null,
   "metadata": {},
   "outputs": [],
   "source": []
  }
 ],
 "metadata": {
  "kernelspec": {
   "display_name": "Python 3",
   "language": "python",
   "name": "python3"
  },
  "language_info": {
   "codemirror_mode": {
    "name": "ipython",
    "version": 3
   },
   "file_extension": ".py",
   "mimetype": "text/x-python",
   "name": "python",
   "nbconvert_exporter": "python",
   "pygments_lexer": "ipython3",
   "version": "3.6.5"
  }
 },
 "nbformat": 4,
 "nbformat_minor": 2
}
