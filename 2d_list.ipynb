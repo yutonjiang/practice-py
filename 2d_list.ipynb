{
 "cells": [
  {
   "cell_type": "code",
   "execution_count": 6,
   "metadata": {},
   "outputs": [
    {
     "name": "stdout",
     "output_type": "stream",
     "text": [
      "0\n",
      "3\n",
      "5\n",
      "2\n",
      "7\n",
      "10\n",
      "6\n",
      "8\n",
      "5\n"
     ]
    }
   ],
   "source": [
    "#2維列表.巢狀迴圈\n",
    "\n",
    "num =[\n",
    "    [0,3,5],     #列表中又含有列表稱為二維列表\n",
    "    [2,7,10],\n",
    "    [6,8],\n",
    "    [5]\n",
    "]                        \n",
    "\n",
    "# print(num[0][0]) #第一個括號表示行數，第二個表示列數\n",
    "\n",
    "#巢狀迴圈\n",
    "for row in num:\n",
    "    for col in row:\n",
    "        print(col)"
   ]
  },
  {
   "cell_type": "code",
   "execution_count": null,
   "metadata": {},
   "outputs": [],
   "source": []
  }
 ],
 "metadata": {
  "kernelspec": {
   "display_name": "Python 3",
   "language": "python",
   "name": "python3"
  },
  "language_info": {
   "codemirror_mode": {
    "name": "ipython",
    "version": 3
   },
   "file_extension": ".py",
   "mimetype": "text/x-python",
   "name": "python",
   "nbconvert_exporter": "python",
   "pygments_lexer": "ipython3",
   "version": "3.6.5"
  }
 },
 "nbformat": 4,
 "nbformat_minor": 2
}
