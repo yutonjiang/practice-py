{
 "cells": [
  {
   "cell_type": "code",
   "execution_count": 2,
   "metadata": {},
   "outputs": [
    {
     "name": "stdout",
     "output_type": "stream",
     "text": [
      "[2, 3, 4, 5, 6, 100]\n"
     ]
    }
   ],
   "source": [
    "def cocktail_sort(l):\n",
    "    l_len = len(l)\n",
    "    for i in range(l_len, 0, -1):\n",
    "        rem_i_l_len = abs(i - l_len)\n",
    "        isNeedContinue = False\n",
    "        obverse_count = len(l[rem_i_l_len : i-1])\n",
    "        reverse_count = len(l[rem_i_l_len + 1 : i-1])\n",
    "        \n",
    "        for j in range(obverse_count):\n",
    "            if l[j] > l[j + 1]:\n",
    "                l[j], l[j + 1] = l[j + 1], l[j]\n",
    "                isNeedContinue = True\n",
    "        # you can print this to observe the whole process\n",
    "        # print l\n",
    "        \n",
    "        for j in range(reverse_count, 0, -1):\n",
    "            if l[j] < l[j - 1]:\n",
    "                l[j], l[j - 1] = l[j - 1], l[j]\n",
    "                isNeedContinue = True\n",
    "        # you can print this to observe the whole process\n",
    "        # print l\n",
    "        \n",
    "        if isNeedContinue:\n",
    "            continue\n",
    "        else:\n",
    "            return\n",
    "  \n",
    "        \n",
    "if __name__ == '__main__':\n",
    "    sample_list = [6,5,4,3,2,100]\n",
    "    cocktail_sort(sample_list)\n",
    "    print(sample_list)"
   ]
  },
  {
   "cell_type": "code",
   "execution_count": null,
   "metadata": {},
   "outputs": [],
   "source": []
  }
 ],
 "metadata": {
  "kernelspec": {
   "display_name": "Python 3",
   "language": "python",
   "name": "python3"
  },
  "language_info": {
   "codemirror_mode": {
    "name": "ipython",
    "version": 3
   },
   "file_extension": ".py",
   "mimetype": "text/x-python",
   "name": "python",
   "nbconvert_exporter": "python",
   "pygments_lexer": "ipython3",
   "version": "3.6.5"
  }
 },
 "nbformat": 4,
 "nbformat_minor": 2
}
