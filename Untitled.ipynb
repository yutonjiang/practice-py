{
 "cells": [
  {
   "cell_type": "code",
   "execution_count": 14,
   "metadata": {},
   "outputs": [
    {
     "name": "stdout",
     "output_type": "stream",
     "text": [
      "[0, 1, 2, 3, 4, 5, 7, 18]\n",
      "['a', 'b', 'c', 'd']\n"
     ]
    }
   ],
   "source": [
    "# 基本排序 sorting\n",
    "#sort指令只支援 list型態,sorted指令可支援所有型態，並且輸出為list\n",
    "#如果是dictionaty型態，可以選擇要用 key() or values()排序\n",
    "\n",
    "\n",
    "data = [1,3,2,4,5,0,7,18]\n",
    "data.sort()             #由小排到大\n",
    "# print(data.sort())    #直接印出會得到 None\n",
    "\n",
    "data_2 = {\"a\":1,\"b\":3,\"c\":0,\"d\":5}\n",
    "data_2_s = sorted(data_2)   #括號內加上 values()可以輸出數字\n",
    "\n",
    "print(data)   \n",
    "print(data_2_s)\n"
   ]
  },
  {
   "cell_type": "code",
   "execution_count": 17,
   "metadata": {},
   "outputs": [
    {
     "name": "stdout",
     "output_type": "stream",
     "text": [
      "無指定升冪排序: [5, 9, 10, 11, 19, 23, 41]\n",
      "升冪排序: [5, 9, 10, 11, 19, 23, 41]\n",
      "降冪排序: [41, 23, 19, 11, 10, 9, 5]\n"
     ]
    }
   ],
   "source": [
    "#升冪 ascending 和 降冪 descending\n",
    "#如果reverse = false 或 無指定,為升冪排列, reverse = true為降冪排列\n",
    "\n",
    "data = [5,9,11,23,10,41,19]\n",
    "\n",
    "data_1 = sorted(data)\n",
    "data_2 = sorted(data,reverse = False)\n",
    "data_3 = sorted(data,reverse = True)\n",
    "\n",
    "print(\"無指定升冪排序:\",data_1)\n",
    "print(\"升冪排序:\",data_2)\n",
    "print(\"降冪排序:\",data_3)"
   ]
  },
  {
   "cell_type": "code",
   "execution_count": 20,
   "metadata": {},
   "outputs": [
    {
     "name": "stdout",
     "output_type": "stream",
     "text": [
      "['z', 'c', 'a', 'S']\n"
     ]
    }
   ],
   "source": [
    "#和數字不同，字元的排序會將字元轉換成 ASCII碼再比對大小\n",
    "#ASCII是計算機概論內提到，由美國國家標準局訂出的 \"美國標準資訊交換碼\"\n",
    "#0-32代表的是控制及通訊專用字元,33-126是字元，其中48-57為0-9之阿拉伯數字,65-90為大寫英文字母,97-126為小寫英文字母，剩餘為標點符號和運算符號\n",
    "\n",
    "data = [\"a\",\"c\",\"S\",\"z\"]\n",
    "data_1 = sorted(data,reverse = True) \n",
    "print(data_1)"
   ]
  },
  {
   "cell_type": "code",
   "execution_count": 28,
   "metadata": {},
   "outputs": [
    {
     "name": "stdout",
     "output_type": "stream",
     "text": [
      "排序後: ['Apple', 'Boy', 'a', 'b']\n",
      "特殊排序後: ['a', 'Apple', 'b', 'Boy']\n",
      "依照長度排序: ['b', 'a', 'Boy', 'Apple']\n",
      "[('a', 1), ('i', 2), ('h', 3), ('c', 4), ('g', 7)]\n"
     ]
    }
   ],
   "source": [
    "#排序變化應用\n",
    "\n",
    "data = [\"b\",\"Boy\",\"a\",\"Apple\"]\n",
    "print(\"排序後:\",sorted(data))\n",
    "print(\"特殊排序後:\",sorted(data,key=str.lower))   #str.lower可以把資料轉換成小寫後再行排序\n",
    "\n",
    "print(\"依照長度排序:\",sorted(data,key=len))  #依照長度排序\n",
    "\n",
    "data_1 = {\"a\":1,\"c\":4,\"i\":2,\"h\":3,\"g\":7}\n",
    "data_1_s = sorted(data_1.items(),key=lambda x:x[1])   #指定欄位進行排序\n",
    "print(data_1_s)"
   ]
  },
  {
   "cell_type": "code",
   "execution_count": null,
   "metadata": {},
   "outputs": [],
   "source": []
  }
 ],
 "metadata": {
  "kernelspec": {
   "display_name": "Python 3",
   "language": "python",
   "name": "python3"
  },
  "language_info": {
   "codemirror_mode": {
    "name": "ipython",
    "version": 3
   },
   "file_extension": ".py",
   "mimetype": "text/x-python",
   "name": "python",
   "nbconvert_exporter": "python",
   "pygments_lexer": "ipython3",
   "version": "3.6.5"
  }
 },
 "nbformat": 4,
 "nbformat_minor": 2
}
